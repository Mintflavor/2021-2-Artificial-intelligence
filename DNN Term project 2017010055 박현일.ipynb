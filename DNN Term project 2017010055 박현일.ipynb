{
 "cells": [
  {
   "cell_type": "code",
   "execution_count": 1,
   "metadata": {},
   "outputs": [],
   "source": [
    "import torch\n",
    "from torch import nn\n",
    "import torchvision as tv\n",
    "from torchvision import datasets\n",
    "import torch.onnx\n",
    "import numpy as np\n",
    "import pandas as pd\n",
    "import matplotlib.pyplot as plt\n",
    "from __future__ import print_function\n",
    "from sklearn.datasets import fetch_openml\n",
    "from sklearn.decomposition import PCA\n",
    "from sklearn.manifold import TSNE\n",
    "from mpl_toolkits.mplot3d import Axes3D\n",
    "import seaborn as sns\n",
    "\n",
    "%matplotlib inline"
   ]
  },
  {
   "cell_type": "code",
   "execution_count": 2,
   "metadata": {},
   "outputs": [
    {
     "name": "stdout",
     "output_type": "stream",
     "text": [
      "Downloading http://yann.lecun.com/exdb/mnist/train-images-idx3-ubyte.gz\n",
      "Downloading http://yann.lecun.com/exdb/mnist/train-images-idx3-ubyte.gz to ./mnist\\MNIST\\raw\\train-images-idx3-ubyte.gz\n"
     ]
    },
    {
     "data": {
      "application/vnd.jupyter.widget-view+json": {
       "model_id": "ed9642d727f8479a82367cd6905d3fab",
       "version_major": 2,
       "version_minor": 0
      },
      "text/plain": [
       "HBox(children=(HTML(value=''), FloatProgress(value=0.0, max=9912422.0), HTML(value='')))"
      ]
     },
     "metadata": {},
     "output_type": "display_data"
    },
    {
     "name": "stdout",
     "output_type": "stream",
     "text": [
      "\n",
      "Extracting ./mnist\\MNIST\\raw\\train-images-idx3-ubyte.gz to ./mnist\\MNIST\\raw\n",
      "\n",
      "Downloading http://yann.lecun.com/exdb/mnist/train-labels-idx1-ubyte.gz\n",
      "Downloading http://yann.lecun.com/exdb/mnist/train-labels-idx1-ubyte.gz to ./mnist\\MNIST\\raw\\train-labels-idx1-ubyte.gz\n"
     ]
    },
    {
     "data": {
      "application/vnd.jupyter.widget-view+json": {
       "model_id": "ad2fcae9dd334a7ab0ad3c3f4d95bdef",
       "version_major": 2,
       "version_minor": 0
      },
      "text/plain": [
       "HBox(children=(HTML(value=''), FloatProgress(value=0.0, max=28881.0), HTML(value='')))"
      ]
     },
     "metadata": {},
     "output_type": "display_data"
    },
    {
     "name": "stdout",
     "output_type": "stream",
     "text": [
      "\n",
      "Extracting ./mnist\\MNIST\\raw\\train-labels-idx1-ubyte.gz to ./mnist\\MNIST\\raw\n",
      "\n",
      "Downloading http://yann.lecun.com/exdb/mnist/t10k-images-idx3-ubyte.gz\n",
      "Downloading http://yann.lecun.com/exdb/mnist/t10k-images-idx3-ubyte.gz to ./mnist\\MNIST\\raw\\t10k-images-idx3-ubyte.gz\n"
     ]
    },
    {
     "data": {
      "application/vnd.jupyter.widget-view+json": {
       "model_id": "28e90e677742459383adae5b4dceaaca",
       "version_major": 2,
       "version_minor": 0
      },
      "text/plain": [
       "HBox(children=(HTML(value=''), FloatProgress(value=0.0, max=1648877.0), HTML(value='')))"
      ]
     },
     "metadata": {},
     "output_type": "display_data"
    },
    {
     "name": "stdout",
     "output_type": "stream",
     "text": [
      "\n",
      "Extracting ./mnist\\MNIST\\raw\\t10k-images-idx3-ubyte.gz to ./mnist\\MNIST\\raw\n",
      "\n",
      "Downloading http://yann.lecun.com/exdb/mnist/t10k-labels-idx1-ubyte.gz\n",
      "Downloading http://yann.lecun.com/exdb/mnist/t10k-labels-idx1-ubyte.gz to ./mnist\\MNIST\\raw\\t10k-labels-idx1-ubyte.gz\n"
     ]
    },
    {
     "data": {
      "application/vnd.jupyter.widget-view+json": {
       "model_id": "3a2dd42bd7be4c9d98f095e5fda256c6",
       "version_major": 2,
       "version_minor": 0
      },
      "text/plain": [
       "HBox(children=(HTML(value=''), FloatProgress(value=0.0, max=4542.0), HTML(value='')))"
      ]
     },
     "metadata": {},
     "output_type": "display_data"
    },
    {
     "name": "stdout",
     "output_type": "stream",
     "text": [
      "\n",
      "Extracting ./mnist\\MNIST\\raw\\t10k-labels-idx1-ubyte.gz to ./mnist\\MNIST\\raw\n",
      "\n"
     ]
    }
   ],
   "source": [
    "batch_size = 12\n",
    "\n",
    "train_data = datasets.MNIST('./mnist', train=True, download=True, transform=tv.transforms.ToTensor())\n",
    "test_data = datasets.MNIST('./mnist', train=False, download=True, transform=tv.transforms.ToTensor())\n",
    "\n",
    "train_loader = torch.utils.data.DataLoader(train_data, batch_size=batch_size, shuffle=True)\n",
    "test_loader = torch.utils.data.DataLoader(test_data, batch_size=batch_size)"
   ]
  },
  {
   "cell_type": "code",
   "execution_count": null,
   "metadata": {},
   "outputs": [],
   "source": [
    "mnist = fetch_openml('mnist_784', version=1, cache=True)\n",
    "X = mnist.data / 255.0\n",
    "y = mnist.target"
   ]
  },
  {
   "cell_type": "code",
   "execution_count": null,
   "metadata": {},
   "outputs": [],
   "source": [
    "feat_cols = [f\"pixel{i}\" for i in range(X.shape[1])]\n",
    "df = pd.DataFrame(X, columns=feat_cols)\n",
    "df['y'] = y\n",
    "df"
   ]
  },
  {
   "cell_type": "code",
   "execution_count": null,
   "metadata": {},
   "outputs": [],
   "source": [
    "np.random.seed(42)\n",
    "rndperm = np.random.permutation(df.shape[0])"
   ]
  },
  {
   "cell_type": "code",
   "execution_count": null,
   "metadata": {},
   "outputs": [],
   "source": [
    "class MLP(nn.Module):\n",
    "    def __init__(self):\n",
    "        super().__init__()\n",
    "        \n",
    "        #Set dimensions\n",
    "        self.in_dim = 28*28\n",
    "        self.out_dim = 10\n",
    "        \n",
    "        #Set perceptrons\n",
    "        self.fc1 = nn.Linear(self.in_dim, 512)\n",
    "        self.fc2 = nn.Linear(512, 256)\n",
    "        self.fc3 = nn.Linear(256, 128)\n",
    "        self.fc4 = nn.Linear(128, 64)\n",
    "        self.fc5 = nn.Linear(64, self.out_dim)\n",
    "        \n",
    "        #Set activation functions\n",
    "        self.relu = nn.ReLU()\n",
    "        self.log_softmax = nn.LogSoftmax()\n",
    "    \n",
    "    #Set procedure\n",
    "    def forward(self, x):\n",
    "        a1 = self.relu(self.fc1(x.view(-1, self.in_dim)))\n",
    "        a2 = self.relu(self.fc2(a1))\n",
    "        a3 = self.relu(self.fc3(a2))\n",
    "        a4 = self.relu(self.fc4(a3))\n",
    "        logit = self.fc5(a4)\n",
    "        \n",
    "        return logit\n",
    "    \n",
    "    #Get outputs that passed layers for X\n",
    "    def z1(self, x):\n",
    "        return self.fc1(x.view(-1, self.in_dim))\n",
    "    \n",
    "    def a1(self, x):\n",
    "        return self.relu(self.z1(x))\n",
    "    \n",
    "    def z2(self, x):\n",
    "        return self.fc2(self.a1(x))\n",
    "    \n",
    "    def a2(self, x):\n",
    "        return self.relu(self.z2(x))\n",
    "    \n",
    "    def z3(self, x):\n",
    "        return self.fc3(self.a2(x))\n",
    "    \n",
    "    def a3(self, x):\n",
    "        return self.relu(self.z3(x))\n",
    "    \n",
    "    def z4(self, x):\n",
    "        return self.fc4(self.a3(x))\n",
    "    \n",
    "    def a4(self, x):\n",
    "        return self.relu(self.z4(x))\n",
    "    \n",
    "    def z5(self, x):\n",
    "        return self.fc5(self.a4(x))\n",
    "    \n",
    "    def a5(self, x):\n",
    "        return self.log_softmax(self.z5(x), dim=-1)"
   ]
  },
  {
   "cell_type": "code",
   "execution_count": null,
   "metadata": {},
   "outputs": [],
   "source": [
    "def imshow(img):\n",
    "    npimg = img.numpy()\n",
    "    plt.imshow(np.transpose(npimg, (1, 2, 0)))\n",
    "    plt.show()"
   ]
  },
  {
   "cell_type": "code",
   "execution_count": null,
   "metadata": {},
   "outputs": [],
   "source": [
    "model = MLP()\n",
    "criterion = nn.CrossEntropyLoss()\n",
    "optimizer = torch.optim.SGD(model.parameters(), lr=0.01)"
   ]
  },
  {
   "cell_type": "code",
   "execution_count": null,
   "metadata": {},
   "outputs": [],
   "source": [
    "for epoch in range(10):\n",
    "    running_loss = 0.0\n",
    "    for i, data in enumerate(train_loader, 0):\n",
    "        inputs, labels = data\n",
    "        \n",
    "        optimizer.zero_grad()\n",
    "        \n",
    "        outputs = model(inputs)\n",
    "        loss = criterion(outputs, labels)\n",
    "        loss.backward()\n",
    "        optimizer.step()\n",
    "        \n",
    "        running_loss += loss.item()\n",
    "        if (i+1) % 2000 == 0:\n",
    "            print(f\"[{epoch+1}, {i+1}] loss : {running_loss/2000}\")\n",
    "            running_loss = 0.0\n",
    "print(\"Finish\")"
   ]
  },
  {
   "cell_type": "code",
   "execution_count": null,
   "metadata": {},
   "outputs": [],
   "source": [
    "dataiter = iter(test_loader)\n",
    "images, labels = dataiter.next()\n",
    "\n",
    "imshow(tv.utils.make_grid(images, nrow=batch_size))\n",
    "print('GroundTruth')\n",
    "for label in labels:\n",
    "    print(label.item(), end=' ')\n",
    "\n",
    "outputs = model(images)\n",
    "_, predicted = torch.max(outputs, 1)\n",
    "print('\\nPrediction')\n",
    "for label in predicted:\n",
    "    print(label.item(), end=' ')"
   ]
  },
  {
   "cell_type": "code",
   "execution_count": null,
   "metadata": {},
   "outputs": [],
   "source": [
    "n_predict = 0\n",
    "n_correct = 0\n",
    "\n",
    "for data in test_loader:\n",
    "    inputs, labels = data\n",
    "    outputs = model(inputs)\n",
    "    _, predicted = torch.max(outputs, 1)\n",
    "    \n",
    "    n_predict += len(predicted)\n",
    "    n_correct += (labels == predicted).sum()\n",
    "    \n",
    "print(f\"{n_correct}/{n_predict}\")\n",
    "print(f\"Accuracy : {n_correct/n_predict:.3f}\")"
   ]
  },
  {
   "cell_type": "markdown",
   "metadata": {},
   "source": [
    "# PCA"
   ]
  },
  {
   "cell_type": "code",
   "execution_count": null,
   "metadata": {},
   "outputs": [],
   "source": [
    "pca = PCA(n_components=2)\n",
    "pca_result = pca.fit_transform(df[feat_cols].values)\n",
    "df['pca-one'] = pca_result[:, 0]\n",
    "df['pca-two'] = pca_result[:, 1]"
   ]
  },
  {
   "cell_type": "markdown",
   "metadata": {},
   "source": [
    "# t-SNE"
   ]
  },
  {
   "cell_type": "code",
   "execution_count": null,
   "metadata": {},
   "outputs": [],
   "source": [
    "N = 10000\n",
    "df_subset = df.loc[rndperm[:N], :].copy()\n",
    "data_subset = df_subset[feat_cols].values\n",
    "\n",
    "tsne = TSNE(n_components=2, perplexity=40, n_iter=300)\n",
    "tsne_results = tsne.fit_transform(data_subset)\n",
    "df_subset['tsne-2d-one'] = tsne_results[:, 0]\n",
    "df_subset['tsne-2d-two'] = tsne_results[:, 1]"
   ]
  },
  {
   "cell_type": "markdown",
   "metadata": {},
   "source": [
    "# z[1] PCA"
   ]
  },
  {
   "cell_type": "code",
   "execution_count": null,
   "metadata": {},
   "outputs": [],
   "source": [
    "z1 = model.z1(torch.from_numpy(df[feat_cols].values).float())\n",
    "z1 = z1.detach().numpy()\n",
    "\n",
    "pca_z1 = PCA(n_components=2)\n",
    "pca_z1_result = pca_z1.fit_transform(z1)\n",
    "df['pca-z1-one'] = pca_z1_result[:, 0]\n",
    "df['pca-z1-two'] = pca_z1_result[:, 1]"
   ]
  },
  {
   "cell_type": "markdown",
   "metadata": {},
   "source": [
    "# z[1] t-SNE"
   ]
  },
  {
   "cell_type": "code",
   "execution_count": null,
   "metadata": {},
   "outputs": [],
   "source": [
    "df_z1_subset = pd.concat([pd.DataFrame(z1[rndperm[:N], :], index=rndperm[:N]), df.loc[rndperm[:N], :]['y']], axis=1)\n",
    "data_z1_subset = z1[rndperm[:N], :]\n",
    "\n",
    "tsne_z1 = TSNE(n_components=2, perplexity=40, n_iter=300)\n",
    "tsne_z1_results = tsne_z1.fit_transform(data_z1_subset)\n",
    "df_z1_subset['tsne-z1-2d-one'] = tsne_z1_results[:, 0]\n",
    "df_z1_subset['tsne-z1-2d-two'] = tsne_z1_results[:, 1]"
   ]
  },
  {
   "cell_type": "markdown",
   "metadata": {},
   "source": [
    "# a[1] PCA"
   ]
  },
  {
   "cell_type": "code",
   "execution_count": null,
   "metadata": {},
   "outputs": [],
   "source": [
    "a1 = model.a1(torch.from_numpy(df[feat_cols].values).float())\n",
    "a1 = a1.detach().numpy()\n",
    "\n",
    "pca_a1 = PCA(n_components=2)\n",
    "pca_a1_result = pca_a1.fit_transform(a1)\n",
    "df['pca-a1-one'] = pca_a1_result[:, 0]\n",
    "df['pca-a1-two'] = pca_a1_result[:, 1]"
   ]
  },
  {
   "cell_type": "markdown",
   "metadata": {},
   "source": [
    "# a[1] t-SNE"
   ]
  },
  {
   "cell_type": "code",
   "execution_count": null,
   "metadata": {},
   "outputs": [],
   "source": [
    "df_a1_subset = pd.concat([pd.DataFrame(a1[rndperm[:N], :], index=rndperm[:N]), df.loc[rndperm[:N], :]['y']], axis=1)\n",
    "data_a1_subset = a1[rndperm[:N], :]\n",
    "\n",
    "tsne_a1 = TSNE(n_components=2, perplexity=40, n_iter=300)\n",
    "tsne_a1_results = tsne_a1.fit_transform(data_a1_subset)\n",
    "df_a1_subset['tsne-a1-2d-one'] = tsne_a1_results[:, 0]\n",
    "df_a1_subset['tsne-a1-2d-two'] = tsne_a1_results[:, 1]"
   ]
  },
  {
   "cell_type": "markdown",
   "metadata": {},
   "source": [
    "# z[2] PCA"
   ]
  },
  {
   "cell_type": "code",
   "execution_count": null,
   "metadata": {},
   "outputs": [],
   "source": [
    "z2 = model.z2(torch.from_numpy(df[feat_cols].values).float())\n",
    "z2 = z2.detach().numpy()\n",
    "\n",
    "pca_z2 = PCA(n_components=2)\n",
    "pca_z2_result = pca_z2.fit_transform(z2)\n",
    "df['pca-z2-one'] = pca_z2_result[:, 0]\n",
    "df['pca-z2-two'] = pca_z2_result[:, 1]"
   ]
  },
  {
   "cell_type": "markdown",
   "metadata": {},
   "source": [
    "# z[2] t-SNE"
   ]
  },
  {
   "cell_type": "code",
   "execution_count": null,
   "metadata": {},
   "outputs": [],
   "source": [
    "df_z2_subset = pd.concat([pd.DataFrame(z2[rndperm[:N], :], index=rndperm[:N]), df.loc[rndperm[:N], :]['y']], axis=1)\n",
    "data_z2_subset = z2[rndperm[:N], :]\n",
    "\n",
    "tsne_z2 = TSNE(n_components=2, perplexity=40, n_iter=300)\n",
    "tsne_z2_results = tsne_z2.fit_transform(data_z2_subset)\n",
    "df_z2_subset['tsne-z2-2d-one'] = tsne_z2_results[:, 0]\n",
    "df_z2_subset['tsne-z2-2d-two'] = tsne_z2_results[:, 1]"
   ]
  },
  {
   "cell_type": "markdown",
   "metadata": {},
   "source": [
    "# a[2] PCA"
   ]
  },
  {
   "cell_type": "code",
   "execution_count": null,
   "metadata": {},
   "outputs": [],
   "source": [
    "a2 = model.a2(torch.from_numpy(df[feat_cols].values).float())\n",
    "a2 = a2.detach().numpy()\n",
    "\n",
    "pca_a2 = PCA(n_components=2)\n",
    "pca_a2_result = pca_a2.fit_transform(a2)\n",
    "df['pca-a2-one'] = pca_a2_result[:, 0]\n",
    "df['pca-a2-two'] = pca_a2_result[:, 1]"
   ]
  },
  {
   "cell_type": "markdown",
   "metadata": {},
   "source": [
    "# a[2] t-SNE"
   ]
  },
  {
   "cell_type": "code",
   "execution_count": null,
   "metadata": {},
   "outputs": [],
   "source": [
    "df_a2_subset = pd.concat([pd.DataFrame(a2[rndperm[:N], :], index=rndperm[:N]), df.loc[rndperm[:N], :]['y']], axis=1)\n",
    "data_a2_subset = a2[rndperm[:N], :]\n",
    "\n",
    "tsne_a2 = TSNE(n_components=2, perplexity=40, n_iter=300)\n",
    "tsne_a2_results = tsne_a2.fit_transform(data_a2_subset)\n",
    "df_a2_subset['tsne-a2-2d-one'] = tsne_a2_results[:, 0]\n",
    "df_a2_subset['tsne-a2-2d-two'] = tsne_a2_results[:, 1]"
   ]
  },
  {
   "cell_type": "markdown",
   "metadata": {},
   "source": [
    "# z[3] PCA"
   ]
  },
  {
   "cell_type": "code",
   "execution_count": null,
   "metadata": {},
   "outputs": [],
   "source": [
    "z3 = model.z3(torch.from_numpy(df[feat_cols].values).float())\n",
    "z3 = z3.detach().numpy()\n",
    "\n",
    "pca_z3 = PCA(n_components=2)\n",
    "pca_z3_result = pca_z3.fit_transform(z3)\n",
    "df['pca-z3-one'] = pca_z3_result[:, 0]\n",
    "df['pca-z3-two'] = pca_z3_result[:, 1]"
   ]
  },
  {
   "cell_type": "markdown",
   "metadata": {},
   "source": [
    "# z[3] t-SNE"
   ]
  },
  {
   "cell_type": "code",
   "execution_count": null,
   "metadata": {},
   "outputs": [],
   "source": [
    "df_z3_subset = pd.concat([pd.DataFrame(z3[rndperm[:N], :], index=rndperm[:N]), df.loc[rndperm[:N], :]['y']], axis=1)\n",
    "data_z3_subset = z3[rndperm[:N], :]\n",
    "\n",
    "tsne_z3 = TSNE(n_components=2, perplexity=40, n_iter=300)\n",
    "tsne_z3_results = tsne_z3.fit_transform(data_z3_subset)\n",
    "df_z3_subset['tsne-z3-2d-one'] = tsne_z3_results[:, 0]\n",
    "df_z3_subset['tsne-z3-2d-two'] = tsne_z3_results[:, 1]"
   ]
  },
  {
   "cell_type": "markdown",
   "metadata": {},
   "source": [
    "# a[3] PCA"
   ]
  },
  {
   "cell_type": "code",
   "execution_count": null,
   "metadata": {},
   "outputs": [],
   "source": [
    "a3 = model.a3(torch.from_numpy(df[feat_cols].values).float())\n",
    "a3 = a3.detach().numpy()\n",
    "\n",
    "pca_a3 = PCA(n_components=2)\n",
    "pca_a3_result = pca_a3.fit_transform(a3)\n",
    "df['pca-a3-one'] = pca_a3_result[:, 0]\n",
    "df['pca-a3-two'] = pca_a3_result[:, 1]"
   ]
  },
  {
   "cell_type": "markdown",
   "metadata": {},
   "source": [
    "# a[3] t-SNE"
   ]
  },
  {
   "cell_type": "code",
   "execution_count": null,
   "metadata": {},
   "outputs": [],
   "source": [
    "df_a3_subset = pd.concat([pd.DataFrame(a3[rndperm[:N], :], index=rndperm[:N]), df.loc[rndperm[:N], :]['y']], axis=1)\n",
    "data_a3_subset = a3[rndperm[:N], :]\n",
    "\n",
    "tsne_a3 = TSNE(n_components=2, perplexity=40, n_iter=300)\n",
    "tsne_a3_results = tsne_a3.fit_transform(data_a3_subset)\n",
    "df_a3_subset['tsne-a3-2d-one'] = tsne_a3_results[:, 0]\n",
    "df_a3_subset['tsne-a3-2d-two'] = tsne_a3_results[:, 1]"
   ]
  },
  {
   "cell_type": "markdown",
   "metadata": {},
   "source": [
    "# z[4] PCA"
   ]
  },
  {
   "cell_type": "code",
   "execution_count": null,
   "metadata": {},
   "outputs": [],
   "source": [
    "z4 = model.z4(torch.from_numpy(df[feat_cols].values).float())\n",
    "z4 = z4.detach().numpy()\n",
    "\n",
    "pca_z4 = PCA(n_components=2)\n",
    "pca_z4_result = pca_z4.fit_transform(z4)\n",
    "df['pca-z4-one'] = pca_z4_result[:, 0]\n",
    "df['pca-z4-two'] = pca_z4_result[:, 1]"
   ]
  },
  {
   "cell_type": "markdown",
   "metadata": {},
   "source": [
    "# z[4] t-SNE"
   ]
  },
  {
   "cell_type": "code",
   "execution_count": null,
   "metadata": {},
   "outputs": [],
   "source": [
    "df_z4_subset = pd.concat([pd.DataFrame(z4[rndperm[:N], :], index=rndperm[:N]), df.loc[rndperm[:N], :]['y']], axis=1)\n",
    "data_z4_subset = z4[rndperm[:N], :]\n",
    "\n",
    "tsne_z4 = TSNE(n_components=2, perplexity=40, n_iter=300)\n",
    "tsne_z4_results = tsne_z4.fit_transform(data_z4_subset)\n",
    "df_z4_subset['tsne-z4-2d-one'] = tsne_z4_results[:, 0]\n",
    "df_z4_subset['tsne-z4-2d-two'] = tsne_z4_results[:, 1]"
   ]
  },
  {
   "cell_type": "markdown",
   "metadata": {},
   "source": [
    "# a[4] PCA"
   ]
  },
  {
   "cell_type": "code",
   "execution_count": null,
   "metadata": {},
   "outputs": [],
   "source": [
    "a4 = model.a4(torch.from_numpy(df[feat_cols].values).float())\n",
    "a4 = a4.detach().numpy()\n",
    "\n",
    "pca_a4 = PCA(n_components=2)\n",
    "pca_a4_result = pca_a4.fit_transform(a4)\n",
    "df['pca-a4-one'] = pca_a4_result[:, 0]\n",
    "df['pca-a4-two'] = pca_a4_result[:, 1]"
   ]
  },
  {
   "cell_type": "markdown",
   "metadata": {},
   "source": [
    "# a[4] t-SNE"
   ]
  },
  {
   "cell_type": "code",
   "execution_count": null,
   "metadata": {},
   "outputs": [],
   "source": [
    "df_a4_subset = pd.concat([pd.DataFrame(a4[rndperm[:N], :], index=rndperm[:N]), df.loc[rndperm[:N], :]['y']], axis=1)\n",
    "data_a4_subset = a4[rndperm[:N], :]\n",
    "\n",
    "tsne_a4 = TSNE(n_components=2, perplexity=40, n_iter=300)\n",
    "tsne_a4_results = tsne_a4.fit_transform(data_a4_subset)\n",
    "df_a4_subset['tsne-a4-2d-one'] = tsne_a4_results[:, 0]\n",
    "df_a4_subset['tsne-a4-2d-two'] = tsne_a4_results[:, 1]"
   ]
  },
  {
   "cell_type": "markdown",
   "metadata": {},
   "source": [
    "# z[5] PCA"
   ]
  },
  {
   "cell_type": "code",
   "execution_count": null,
   "metadata": {},
   "outputs": [],
   "source": [
    "z5 = model.z5(torch.from_numpy(df[feat_cols].values).float())\n",
    "z5 = z5.detach().numpy()\n",
    "\n",
    "pca_z5 = PCA(n_components=2)\n",
    "pca_z5_result = pca_z5.fit_transform(z5)\n",
    "df['pca-z5-one'] = pca_z5_result[:, 0]\n",
    "df['pca-z5-two'] = pca_z5_result[:, 1]"
   ]
  },
  {
   "cell_type": "markdown",
   "metadata": {},
   "source": [
    "# z[5] t-SNE"
   ]
  },
  {
   "cell_type": "code",
   "execution_count": null,
   "metadata": {},
   "outputs": [],
   "source": [
    "df_z5_subset = pd.concat([pd.DataFrame(z5[rndperm[:N], :], index=rndperm[:N]), df.loc[rndperm[:N], :]['y']], axis=1)\n",
    "data_z5_subset = z5[rndperm[:N], :]\n",
    "\n",
    "tsne_z5 = TSNE(n_components=2, perplexity=40, n_iter=300)\n",
    "tsne_z5_results = tsne_z5.fit_transform(data_z5_subset)\n",
    "df_z5_subset['tsne-z5-2d-one'] = tsne_z5_results[:, 0]\n",
    "df_z5_subset['tsne-z5-2d-two'] = tsne_z5_results[:, 1]"
   ]
  },
  {
   "cell_type": "markdown",
   "metadata": {},
   "source": [
    "# a[5] PCA"
   ]
  },
  {
   "cell_type": "code",
   "execution_count": null,
   "metadata": {},
   "outputs": [],
   "source": [
    "a5 = model.a5(torch.from_numpy(df[feat_cols].values).float())\n",
    "a5 = a5.detach().numpy()\n",
    "\n",
    "pca_a5 = PCA(n_components=2)\n",
    "pca_a5_result = pca_a5.fit_transform(a5)\n",
    "df['pca-a5-one'] = pca_a5_result[:, 0]\n",
    "df['pca-a5-two'] = pca_a5_result[:, 1]"
   ]
  },
  {
   "cell_type": "markdown",
   "metadata": {},
   "source": [
    "# a[5] t-SNE"
   ]
  },
  {
   "cell_type": "code",
   "execution_count": null,
   "metadata": {},
   "outputs": [],
   "source": [
    "df_a5_subset = pd.concat([pd.DataFrame(a5[rndperm[:N], :], index=rndperm[:N]), df.loc[rndperm[:N], :]['y']], axis=1)\n",
    "data_a5_subset = a5[rndperm[:N], :]\n",
    "\n",
    "tsne_a5 = TSNE(n_components=2, perplexity=40, n_iter=300)\n",
    "tsne_a5_results = tsne_a5.fit_transform(data_a5_subset)\n",
    "df_a5_subset['tsne-a5-2d-one'] = tsne_a5_results[:, 0]\n",
    "df_a5_subset['tsne-a5-2d-two'] = tsne_a5_results[:, 1]"
   ]
  },
  {
   "cell_type": "code",
   "execution_count": null,
   "metadata": {
    "scrolled": false
   },
   "outputs": [],
   "source": [
    "plt.figure(figsize=(7, 7))\n",
    "\n",
    "fig, line = plt.subplots(11, 2, figsize=(15,80))\n",
    "sns.set_theme(font_scale=1.5)\n",
    "\n",
    "sns.scatterplot(x='pca-one', y='pca-two', hue='y', palette=sns.color_palette(\"hls\", 10), data=df.loc[rndperm,:], legend='full', alpha=0.3, ax=line[0][0])\n",
    "sns.scatterplot(x='tsne-2d-one', y='tsne-2d-two', hue='y', palette=sns.color_palette(\"hls\", 10), data=df_subset, legend='full', alpha=0.3, ax=line[0][1])\n",
    "sns.scatterplot(x='pca-z1-one', y='pca-z1-two', hue='y', palette=sns.color_palette(\"hls\", 10), data=df.loc[rndperm,:], legend='full', alpha=0.3, ax=line[1][0])\n",
    "sns.scatterplot(x='tsne-z1-2d-one', y='tsne-z1-2d-two', hue='y', palette=sns.color_palette(\"hls\", 10), data=df_z1_subset, legend='full', alpha=0.3, ax=line[1][1])\n",
    "sns.scatterplot(x='pca-a1-one', y='pca-a1-two', hue='y', palette=sns.color_palette(\"hls\", 10), data=df.loc[rndperm,:], legend='full', alpha=0.3, ax=line[2][0])\n",
    "sns.scatterplot(x='tsne-a1-2d-one', y='tsne-a1-2d-two', hue='y', palette=sns.color_palette(\"hls\", 10), data=df_a1_subset, legend='full', alpha=0.3, ax=line[2][1])\n",
    "sns.scatterplot(x='pca-z2-one', y='pca-z2-two', hue='y', palette=sns.color_palette(\"hls\", 10), data=df.loc[rndperm,:], legend='full', alpha=0.3, ax=line[3][0])\n",
    "sns.scatterplot(x='tsne-z2-2d-one', y='tsne-z2-2d-two', hue='y', palette=sns.color_palette(\"hls\", 10), data=df_z2_subset, legend='full', alpha=0.3, ax=line[3][1])\n",
    "sns.scatterplot(x='pca-a2-one', y='pca-a2-two', hue='y', palette=sns.color_palette(\"hls\", 10), data=df.loc[rndperm,:], legend='full', alpha=0.3, ax=line[4][0])\n",
    "sns.scatterplot(x='tsne-a2-2d-one', y='tsne-a2-2d-two', hue='y', palette=sns.color_palette(\"hls\", 10), data=df_a2_subset, legend='full', alpha=0.3, ax=line[4][1])\n",
    "sns.scatterplot(x='pca-z3-one', y='pca-z3-two', hue='y', palette=sns.color_palette(\"hls\", 10), data=df.loc[rndperm,:], legend='full', alpha=0.3, ax=line[5][0])\n",
    "sns.scatterplot(x='tsne-z3-2d-one', y='tsne-z3-2d-two', hue='y', palette=sns.color_palette(\"hls\", 10), data=df_z3_subset, legend='full', alpha=0.3, ax=line[5][1])\n",
    "sns.scatterplot(x='pca-a3-one', y='pca-a3-two', hue='y', palette=sns.color_palette(\"hls\", 10), data=df.loc[rndperm,:], legend='full', alpha=0.3, ax=line[6][0])\n",
    "sns.scatterplot(x='tsne-a3-2d-one', y='tsne-a3-2d-two', hue='y', palette=sns.color_palette(\"hls\", 10), data=df_a3_subset, legend='full', alpha=0.3, ax=line[6][1])\n",
    "sns.scatterplot(x='pca-z4-one', y='pca-z4-two', hue='y', palette=sns.color_palette(\"hls\", 10), data=df.loc[rndperm,:], legend='full', alpha=0.3, ax=line[7][0])\n",
    "sns.scatterplot(x='tsne-z4-2d-one', y='tsne-z4-2d-two', hue='y', palette=sns.color_palette(\"hls\", 10), data=df_z4_subset, legend='full', alpha=0.3, ax=line[7][1])\n",
    "sns.scatterplot(x='pca-a4-one', y='pca-a4-two', hue='y', palette=sns.color_palette(\"hls\", 10), data=df.loc[rndperm,:], legend='full', alpha=0.3, ax=line[8][0])\n",
    "sns.scatterplot(x='tsne-a4-2d-one', y='tsne-a4-2d-two', hue='y', palette=sns.color_palette(\"hls\", 10), data=df_a4_subset, legend='full', alpha=0.3, ax=line[8][1])\n",
    "sns.scatterplot(x='pca-z5-one', y='pca-z5-two', hue='y', palette=sns.color_palette(\"hls\", 10), data=df.loc[rndperm,:], legend='full', alpha=0.3, ax=line[9][0])\n",
    "sns.scatterplot(x='tsne-z5-2d-one', y='tsne-z5-2d-two', hue='y', palette=sns.color_palette(\"hls\", 10), data=df_z5_subset, legend='full', alpha=0.3, ax=line[9][1])\n",
    "sns.scatterplot(x='pca-a5-one', y='pca-a5-two', hue='y', palette=sns.color_palette(\"hls\", 10), data=df.loc[rndperm,:], legend='full', alpha=0.3, ax=line[10][0])\n",
    "sns.scatterplot(x='tsne-a5-2d-one', y='tsne-a5-2d-two', hue='y', palette=sns.color_palette(\"hls\", 10), data=df_a5_subset, legend='full', alpha=0.3, ax=line[10][1])\n",
    "\n",
    "line[0][0].set_title(\"a[0] PCA\", fontsize=24)\n",
    "line[0][1].set_title(\"a[0] t-SNE\", fontsize=24)\n",
    "line[1][0].set_title(\"z[1] PCA\", fontsize=24)\n",
    "line[1][1].set_title(\"z[1] t-SNE\", fontsize=24)\n",
    "line[2][0].set_title(\"a[1] PCA\", fontsize=24)\n",
    "line[2][1].set_title(\"a[1] t-SNE\", fontsize=24)\n",
    "line[3][0].set_title(\"z[2] PCA\", fontsize=24)\n",
    "line[3][1].set_title(\"z[2] t-SNE\", fontsize=24)\n",
    "line[4][0].set_title(\"a[2] PCA\", fontsize=24)\n",
    "line[4][1].set_title(\"a[2] t-SNE\", fontsize=24)\n",
    "line[5][0].set_title(\"z[3] PCA\", fontsize=24)\n",
    "line[5][1].set_title(\"z[3] t-SNE\", fontsize=24)\n",
    "line[6][0].set_title(\"a[3] PCA\", fontsize=24)\n",
    "line[6][1].set_title(\"a[3] t-SNE\", fontsize=24)\n",
    "line[7][0].set_title(\"z[4] PCA\", fontsize=24)\n",
    "line[7][1].set_title(\"z[4] t-SNE\", fontsize=24)\n",
    "line[8][0].set_title(\"a[4] PCA\", fontsize=24)\n",
    "line[8][1].set_title(\"a[4] t-SNE\", fontsize=24)\n",
    "line[9][0].set_title(\"z[5] PCA\", fontsize=24)\n",
    "line[9][1].set_title(\"z[5] t-SNE\", fontsize=24)\n",
    "line[10][0].set_title(\"a[5] PCA\", fontsize=24)\n",
    "line[10][1].set_title(\"a[5] t-SNE\", fontsize=24)\n",
    "\n",
    "fig.tight_layout(pad=3)\n",
    "\n",
    "plt.show()"
   ]
  },
  {
   "cell_type": "code",
   "execution_count": null,
   "metadata": {},
   "outputs": [],
   "source": []
  }
 ],
 "metadata": {
  "kernelspec": {
   "display_name": "Python 3",
   "language": "python",
   "name": "python3"
  },
  "language_info": {
   "codemirror_mode": {
    "name": "ipython",
    "version": 3
   },
   "file_extension": ".py",
   "mimetype": "text/x-python",
   "name": "python",
   "nbconvert_exporter": "python",
   "pygments_lexer": "ipython3",
   "version": "3.8.5"
  }
 },
 "nbformat": 4,
 "nbformat_minor": 5
}
